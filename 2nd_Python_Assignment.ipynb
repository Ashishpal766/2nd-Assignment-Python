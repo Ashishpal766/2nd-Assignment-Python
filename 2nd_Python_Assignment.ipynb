{
  "nbformat": 4,
  "nbformat_minor": 0,
  "metadata": {
    "colab": {
      "provenance": []
    },
    "kernelspec": {
      "name": "python3",
      "display_name": "Python 3"
    },
    "language_info": {
      "name": "python"
    }
  },
  "cells": [
    {
      "cell_type": "markdown",
      "source": [
        "Q N0.1 What are data stractures, and why are they import?\n",
        "\n",
        "Ans:- What are Data Structures?\n",
        "A data structure is a specialized format for organizing, managing, and storing data in a computer so that it can be accessed and used efficiently. Essentially, it's a way of arranging data elements, considering the relationships between them, to optimize operations like storage, retrieval, insertion, and deletion.\n",
        "\n",
        "Think of it like organizing your physical belongings. You wouldn't just throw everything into one big pile. Instead, you might use different containers (drawers, shelves, boxes) and systems (alphabetical order, categories) to store related items together for easier access and management. Data structures serve a similar purpose in the digital world.\n",
        "\n",
        "Data structures are fundamental to computer science and software development for several crucial reasons:\n",
        "\n",
        "Efficiency: The choice of data structure significantly impacts the efficiency of algorithms that operate on that data. A well-chosen data structure can lead to faster execution times and reduced memory usage. For example, searching for an element in a sorted array is much faster than in an unsorted one because you can use algorithms like binary search.\n",
        "Organization and Manageability: Data structures provide a clear and logical way to organize data, making it easier to understand, maintain, and modify code. This is especially important when dealing with large and complex datasets.\n",
        "Algorithm Design: Data structures are intrinsically linked to algorithms. The way data is structured often dictates the most efficient algorithms for performing specific tasks. Understanding different data structures allows programmers to design effective and optimized algorithms.\n",
        "Problem Solving: Many programming problems inherently require the use of specific data structures to model the problem effectively and develop efficient solutions. Knowing various data structures equips developers with a wider range of tools to tackle diverse challenges.\n",
        "Scalability: When applications need to handle increasing amounts of data, using appropriate data structures becomes critical for ensuring that the performance remains acceptable. Well-structured data can be processed and managed more efficiently as the dataset grows.\n",
        "Code Reusability and Abstraction: Data structures often provide a level of abstraction, hiding the underlying implementation details and allowing developers to focus on how to use the data effectively. Well-defined data structures can also be reused across different parts of a program or even in other programs\n"
      ],
      "metadata": {
        "id": "0-Qehiv11cTM"
      }
    },
    {
      "cell_type": "markdown",
      "source": [
        "Q N0.2 Explain the difference between mutable and immutable data types with examples.\n",
        "\n",
        "Ans:- In programming, data types can be categorized as either mutable or immutable based on whether their state (the value they hold) can be changed after they are created.\n",
        "\n",
        "  Mutable Data Types:\n",
        "\n",
        "Objects of mutable data types can be modified after they are created. This means you can change their internal state (e.g., add, remove, or modify elements) without creating a brand new object.\n",
        "When you modify a mutable object, you are directly altering the original object in memory. Any other variables that reference the same object will also reflect these changes\n",
        "Mutable Data Types (Examples in Python):\n",
        " Lists\n",
        "  Dictionaries\n",
        "  Sets\n",
        "\n",
        "  Immutable Data Types:\n",
        "\n",
        "Objects of immutable data types cannot be changed after they are created. If you need to perform an operation that appears to modify an immutable object, a new object with the\n",
        "modified value is created instead. The original object remains unchanged.\n",
        "Variables referencing immutable objects hold a specific value, and if you assign a new value to the variable, it will point to a completely new object in memory.\n",
        "The original object is not affected unless no other variable references it, in which case it might be garbage collected."
      ],
      "metadata": {
        "id": "RQjM7P6i4C6s"
      }
    },
    {
      "cell_type": "code",
      "source": [
        "# Example of mutable data types\n",
        "my_list = [1, 2, 3]\n",
        "print(my_list)\n",
        "my_list.append(4)\n",
        "print(my_list)"
      ],
      "metadata": {
        "colab": {
          "base_uri": "https://localhost:8080/"
        },
        "id": "csbArhAF3cvz",
        "outputId": "9eb0eb8f-1d95-4c52-ef97-b3f646dcd5a1"
      },
      "execution_count": null,
      "outputs": [
        {
          "output_type": "stream",
          "name": "stdout",
          "text": [
            "[1, 2, 3]\n",
            "[1, 2, 3, 4]\n"
          ]
        }
      ]
    },
    {
      "cell_type": "code",
      "source": [
        "# Example of immutable data types\n",
        "x = 10\n",
        "print(x)\n",
        "print(id(x))\n",
        "\n",
        "x = x + 5\n",
        "print(x)\n",
        "print(id(x))"
      ],
      "metadata": {
        "colab": {
          "base_uri": "https://localhost:8080/"
        },
        "id": "zfMeZcOu4F9-",
        "outputId": "3e7c40a0-cac5-4c8a-a7fb-3e2dcb4e8c08"
      },
      "execution_count": null,
      "outputs": [
        {
          "output_type": "stream",
          "name": "stdout",
          "text": [
            "10\n",
            "10751144\n",
            "15\n",
            "10751304\n"
          ]
        }
      ]
    },
    {
      "cell_type": "markdown",
      "source": [
        "Q NO. 3 What are the main difference  between list and tuples in python?\n",
        "\n",
        "Ans:- The main differences between lists and tuples in Python lie in their mutability, syntax, performance, and use cases:\n",
        "\n",
        "Here's a table summarizing the key distinctions:\n",
        "\n",
        "      LIST\n",
        "\n",
        "      Lists in Python: Ordered, Mutable Collections\n",
        "In Python, a list is a versatile and widely used built-in data structure that represents an ordered sequence of items. It's a mutable collection, meaning you can change its contents after it's created. Lists are incredibly flexible and can hold items of different data types.\n",
        "\n",
        "Here's a breakdown of key characteristics and features of Python lists:\n",
        "\n",
        "Key Characteristics:\n",
        "\n",
        "Ordered: Elements in a list maintain a specific order. The order in which you add elements is the order in which they are stored and retrieved. This allows you to access elements by their position (index).\n",
        "Mutable: Lists are mutable, which means you can modify their contents after creation. You can:\n",
        "Add new elements.\n",
        "Remove existing elements.\n",
        "Change the value of existing elements.\n",
        "Reorder elements.\n",
        "Heterogeneous: Lists can contain elements of different data types within the same list. For example, you can have a list containing integers, strings, floats, and even other lists or tuples.\n",
        "Dynamic Size: Lists can grow or shrink in size dynamically as you add or remove elements. You don't need to pre-allocate a fixed size.\n",
        "Indexed: Each element in a list has an associated index, starting from 0 for the first element, 1 for the second, and so on. You can use these indices to access specific elements. Negative indexing is also supported, where -1 refers to the last element, -2 to the second-to-last, and so on.\n",
        "Allow Duplicates: Lists can contain duplicate elements. The same value can appear multiple times in a single list.\n",
        "\n",
        "\n",
        "        TUPLES\n",
        "        Tuples in Python: Ordered, Immutable Sequences\n",
        "In Python, a tuple is a built-in data structure that represents an ordered sequence of items, similar to a list. However, the crucial difference is that tuples are immutable, meaning their contents cannot be changed after they are created.\n",
        "\n",
        "Here's a breakdown of the key characteristics and features of Python tuples:\n",
        "\n",
        "Key Characteristics:\n",
        "\n",
        "Ordered: Elements in a tuple maintain a specific order. The order in which you define the elements is the order in which they are stored and retrieved. This allows you to access elements by their position (index).\n",
        "Immutable: This is the defining characteristic of tuples. Once a tuple is created, you cannot modify its contents. You cannot:\n",
        "Add new elements.\n",
        "Remove existing elements.\n",
        "Change the value of existing elements.\n",
        "Heterogeneous: Like lists, tuples can contain elements of different data types within the same tuple.\n",
        "Fixed Size: Because tuples are immutable, their size is fixed at the time of creation. They cannot grow or shrink dynamically.\n",
        "Indexed: Each element in a tuple has an associated index, starting from 0 for the first element. You can use these indices to access specific elements. Negative indexing is also supported.\n",
        "Allow Duplicates: Tuples can contain duplicate elements.\n",
        "Syntax for Creating Tuples:\n",
        "\n",
        "Tuples are created using parentheses (), with elements separated by commas. However, the parentheses are actually optional in many contexts; it's the comma that signifies a tuple."
      ],
      "metadata": {
        "id": "DNjI44c_4eKN"
      }
    },
    {
      "cell_type": "markdown",
      "source": [],
      "metadata": {
        "id": "OrN_ym664-7L"
      }
    },
    {
      "cell_type": "markdown",
      "source": [
        "Q N0.4 Describe how dictionaries store data.\n",
        "\n",
        "Ans:- Dictionaries in Python store data as key-value pairs. This means that each piece of data within a dictionary is associated with a unique identifier called a key. You use this key to access the corresponding value.\n",
        "\n",
        "Here's a more detailed breakdown of how dictionaries store data:\n",
        "\n",
        "1. Key-Value Pairs:\n",
        "\n",
        "The fundamental unit of storage in a dictionary is a key-value pair.\n",
        "Each pair consists of two parts:\n",
        "Key: A unique identifier that you use to retrieve the associated value. Keys must be immutable data types, such as strings, numbers (integers, floats), and tuples (if they contain only immutable elements). Lists and other dictionaries cannot be used as keys because they are mutable.\n",
        "Value: The data associated with the key. Values can be of any Python data type, including strings, numbers, lists, tuples, other dictionaries, and more.\n",
        "2. Hash Tables (Under the Hood):\n",
        "\n",
        "Internally, Python dictionaries are typically implemented using a data structure called a hash table (or hash map). While you don't directly interact with the hash table, understanding its basic principles helps explain the efficiency of dictionary operations.\n",
        "Hashing: When you add a key-value pair to a dictionary, the key is passed through a hash function. This hash function generates a unique (or near-unique) integer, called a hash value, for that key.\n",
        "Index Mapping: This hash value is then used to determine the index (or \"bucket\") in the underlying storage where the corresponding value will be stored. This process allows for very fast lookups because Python can directly calculate the memory location of the value based on its key's hash value."
      ],
      "metadata": {
        "id": "2MfPKIx35zob"
      }
    },
    {
      "cell_type": "markdown",
      "source": [
        "Q NO.5 Why might you use a set instead of a list in python?\n",
        "\n",
        "Ans:- You might choose to use a set instead of a list in Python when you need to leverage the unique and unordered nature of sets for specific tasks, particularly when:\n",
        "\n",
        "1. Ensuring Uniqueness of Elements:\n",
        "\n",
        "Primary Reason: Sets, by definition, only store unique elements. If you add a duplicate element to a set, it will be automatically ignored.\n",
        "\n",
        "Use Case: Removing duplicates from a collection. If you have a list with many repeated items and you only care about the distinct values"
      ],
      "metadata": {
        "id": "pn-Jsx3T6YBk"
      }
    },
    {
      "cell_type": "code",
      "source": [
        "# Example\n",
        "my_list = [1, 2, 2, 3, 4, 4, 5]\n",
        "unique_elements = set(my_list)\n",
        "print(unique_elements)"
      ],
      "metadata": {
        "colab": {
          "base_uri": "https://localhost:8080/"
        },
        "id": "3VfdrTzH67mN",
        "outputId": "dc0d6373-c6d2-4769-e8f7-4b617fc28762"
      },
      "execution_count": null,
      "outputs": [
        {
          "output_type": "stream",
          "name": "stdout",
          "text": [
            "{1, 2, 3, 4, 5}\n"
          ]
        }
      ]
    },
    {
      "cell_type": "markdown",
      "source": [
        "2. Efficient Membership Testing:\n",
        "\n",
        "Performance Advantage: Checking if an element exists in a set (in operator) is significantly faster on average (O(1) time complexity) compared to checking in a list (O(n) time complexity). This is because sets use hashing for element lookup.\n",
        "\n",
        "Use Case: When you need to perform frequent checks for the presence of an item in a collection, especially for large collections, using a set can lead to substantial performance improvements."
      ],
      "metadata": {
        "id": "GPorJ5qW7C0e"
      }
    },
    {
      "cell_type": "code",
      "source": [
        "# Example\n",
        "my_set = {1, 2, 3, 4, 5}\n",
        "my_list = [1, 2, 3, 4, 5]\n",
        "\n",
        "print(3 in my_set)\n",
        "print(3 in my_list)"
      ],
      "metadata": {
        "colab": {
          "base_uri": "https://localhost:8080/"
        },
        "id": "XKQSnLZp7Nnr",
        "outputId": "dada440a-e2ec-48f4-98c8-466a237fe30f"
      },
      "execution_count": null,
      "outputs": [
        {
          "output_type": "stream",
          "name": "stdout",
          "text": [
            "True\n",
            "True\n"
          ]
        }
      ]
    },
    {
      "cell_type": "markdown",
      "source": [
        "3. Performing Set Operations:\n",
        "\n",
        "Built-in Set Theory Operations: Sets provide efficient ways to perform common set theory operations:\n",
        "\n",
        "Union (| or union()): Combine elements from two or more sets.\n",
        "Intersection (& or intersection()): Find elements common to two or more sets.\n",
        "Difference (- or difference()): Find elements present in one set but not in another.\n",
        "Symmetric Difference (^ or symmetric_difference()): Find elements present in either of the sets but not in both.\n",
        "Subset and Superset Testing (<=, <, >=, > or issubset(), issuperset()): Check if one set contains all elements of another.\n",
        "Use Case: When your problem involves relationships between collections of unique items, such as finding common interests between users, identifying unique visitors across different sessions, or comparing sets of data"
      ],
      "metadata": {
        "id": "aAnKhGYw7g4B"
      }
    },
    {
      "cell_type": "markdown",
      "source": [
        "Q NO6. What is a string in python, and how is it different from a list?\n",
        "\n",
        "Ans:- Strings in Python: Immutable Sequences of Characters\n",
        "In Python, a string is a sequence of characters. It is used to represent textual data. Strings are immutable, meaning that once a string is created, its individual characters cannot be changed.\n",
        "\n",
        "Key Characteristics of Python Strings:\n",
        "\n",
        "Sequence: Strings are ordered sequences, meaning the characters within a string have a specific order and can be accessed by their index (position).\n",
        "Immutable: This is a crucial characteristic. You cannot modify a string in-place. Any operation that appears to change a string actually creates a new string object.\n",
        "Iterable: You can iterate over the characters in a string using loops.\n",
        "Unicode: Python 3 strings are Unicode by default, allowing them to represent characters from various languages and scripts.\n",
        "Represented by Quotes: Strings are typically enclosed in single quotes ('...'), double quotes (\"...\"), or triple quotes ('''...''' or \"\"\"...\"\"\"). Triple quotes are used for multi-line strings or docstrings.\n",
        "\n",
        "explanation of the differences between strings and lists in Python.\n",
        "\n",
        "To reiterate the key distinctions:\n",
        "\n",
        "Elements: Strings are sequences of characters, while lists are ordered collections of items of any data type.\n",
        "Mutability: Strings are immutable (cannot be changed after creation), whereas lists are mutable (can be modified in-place).\n",
        "Syntax: Strings are enclosed in quotes (', \", ''', \"\"\"), and lists are enclosed in square brackets [].\n",
        "Purpose: Strings are primarily for representing textual data, and lists are for storing general collections of items.\n",
        "Modification Methods: Strings have methods that return new strings, while lists have methods for in-place modification."
      ],
      "metadata": {
        "id": "Yknw_rDD7ilK"
      }
    },
    {
      "cell_type": "markdown",
      "source": [
        "Q NO7. How do tuples ensure data integrity in python?\n",
        "\n",
        "Ans:- Tuples ensure data integrity in Python primarily through their immutability. Once a tuple is created, its contents cannot be changed. This characteristic provides several key benefits for maintaining the integrity of your data:\n",
        "\n",
        "Here's how immutability contributes to data integrity:\n",
        "\n",
        "1.Prevention of Accidental Modification:\n",
        "\n",
        "Since tuples cannot be modified after creation, there's no risk of unintentionally altering their values. This is particularly important when you have data that should remain constant throughout the program's execution.\n",
        "If you pass a tuple to a function, you can be certain that the function cannot change the original tuple. This makes code more predictable and less prone to unexpected side effects.\n",
        "\n",
        "2.Safe Sharing of Data:\n",
        "Because tuples are immutable, it's safe to share them between different parts of your program or even across different threads without the need for explicit locking mechanisms to prevent race conditions (where multiple parts of the program try to modify the same data simultaneously).\n",
        "You can confidently pass tuples as arguments to functions or store them in data structures knowing that their values will not be altered unexpectedly.\n",
        "\n",
        "3.Use as Dictionary Keys and Set Elements:\n",
        "Immutability is a prerequisite for an object to be hashable in Python. Hashable objects have a hash value that remains constant throughout their lifetime, allowing them to be used as keys in dictionaries and elements in sets.\n",
        "If tuples were mutable, their hash values could change after creation, potentially leading to inconsistencies and errors when used as keys or set elements.\n"
      ],
      "metadata": {
        "id": "gaRtRHCw8oYv"
      }
    },
    {
      "cell_type": "markdown",
      "source": [
        "Q NO.8 What is a hash table and how does itrelated to dictionaries in python?\n",
        "\n",
        "Ans:- A hash table is a data structure that implements an associative array (also known as a dictionary or map). It allows for efficient storage and retrieval of key-value pairs. Here's how it works:\n",
        "\n",
        " Hashing: When you want to store a value with a specific key, the hash table uses a hash function to compute an index (called a hash value or hash code) for that key. The hash function takes the key as input and returns an integer within a certain range.\n",
        "\n",
        "Storage: This computed index determines where the key-value pair will be stored in an underlying array (often called the \"table\" or \"buckets\").\n",
        "\n",
        "Retrieval: When you want to retrieve the value associated with a key, the same hash function is applied to the key to get the index. The hash table then directly goes to that index in the array to find the corresponding value\n",
        "\n",
        "Relationship to Dictionaries in Python:\n",
        "\n",
        "In Python, the built-in dict data type is implemented using a hash table. This means that when you create and use a Python dictionary, you are leveraging the underlying principles and efficiency of a hash table.\n",
        "\n",
        "Here's how the characteristics of a hash table relate to Python dictionaries:\n",
        "\n",
        "Key-Value Pairs: Python dictionaries store data as key-value pairs, just like associative arrays implemented with hash tables.\n",
        "Fast Lookups: Python dictionaries offer very fast average-case performance for accessing values based on their keys, which is a direct result of the underlying hash table implementation.\n",
        "Hashable Keys: Python enforces that dictionary keys must be hashable objects. If you try to use an unhashable type (like a list) as a key, you will get a TypeError.\n",
        "Ordered (Since Python 3.7): While traditional hash tables are unordered, Python dictionaries, starting from version 3.7, are guaranteed to preserve the insertion order of items. This means that the order in which you add key-value pairs to a dictionary is maintained when you iterate through it. This ordering is an implementation detail that builds upon the efficiency of the underlying hash table. In earlier versions of Python (before 3.7), dictionaries were unordered.\n",
        "\n",
        "In summary:\n",
        "\n",
        "A hash table is a fundamental data structure that enables efficient key-value lookups. Python dictionaries are a high-level implementation of this concept, utilizing the speed and flexibility of hash tables while also providing the feature of insertion order preservation in modern Python versions. You can think of a hash table as the underlying engine, and a Python dictionary as a user-friendly interface built on top of that engine"
      ],
      "metadata": {
        "id": "f3_YB5nz9u9y"
      }
    },
    {
      "cell_type": "markdown",
      "source": [
        "Q NO.9 Can list contain different data types in python?\n",
        "\n",
        "Ans:- Yes, Python lists can contain elements of different data types. This is one of the flexible and dynamic features of lists in Python.\n",
        "\n",
        "For example, you can have a list that contains integers, strings, booleans, and even other lists or tuples"
      ],
      "metadata": {
        "id": "LXh3TvMv-6tt"
      }
    },
    {
      "cell_type": "code",
      "source": [
        "# Example\n",
        "my_list = [10, \"hello\", True, 3.14, [1, 2], (5, 6)]\n",
        "print(my_list)"
      ],
      "metadata": {
        "colab": {
          "base_uri": "https://localhost:8080/"
        },
        "id": "3QPJz_In_cZj",
        "outputId": "5d88e357-3e52-43e1-bcd7-123eb6b226dc"
      },
      "execution_count": null,
      "outputs": [
        {
          "output_type": "stream",
          "name": "stdout",
          "text": [
            "[10, 'hello', True, 3.14, [1, 2], (5, 6)]\n"
          ]
        }
      ]
    },
    {
      "cell_type": "markdown",
      "source": [
        "In this example, my_list contains:\n",
        "\n",
        "An integer (10)\n",
        "A string (\"hello\")\n",
        "A boolean (True)\n",
        "A float (3.14)\n",
        "Another list ([1, 2])\n",
        "A tuple ((5, 6))\n",
        "You can access and manipulate these elements regardless of their different type"
      ],
      "metadata": {
        "id": "TwsYMKnB_l-h"
      }
    },
    {
      "cell_type": "markdown",
      "source": [
        "Q N0.10 Explain why string are immutable in python?\n",
        "\n",
        "Ans:- Strings in Python are immutable because of several key design decisions that contribute to efficiency, simplicity, and safety:\n",
        "\n",
        "1. Efficiency:\n",
        "\n",
        "Memory Optimization: When multiple variables refer to the same string literal, Python can make them point to the same memory location. If strings were mutable, changing one instance would require creating a new copy in memory to avoid affecting other variables referencing the same string. Immutability allows for efficient memory sharing\n",
        "\n",
        "2. Simplicity and Predictability:\n",
        "\n",
        "Consistent Behavior: Immutability ensures that once a string object is created, its value will never change. This makes the behavior of strings predictable and easier to reason about in your code. You don't have to worry about a string being unexpectedly modified elsewhere in your program\n",
        "\n",
        "3. Use as Dictionary Keys and Set Elements:\n",
        "\n",
        "Hashability: Immutable objects are hashable, meaning their hash value remains constant throughout their lifetime. This is a requirement for using objects as keys in dictionaries or elements in sets, both of which rely on hash values for efficient lookups and uniqueness checks. If strings were mutable, their hash values could change, potentially corrupting the dictionary or set"
      ],
      "metadata": {
        "id": "BZwPOxDS_oKu"
      }
    },
    {
      "cell_type": "markdown",
      "source": [],
      "metadata": {
        "id": "ejxHSA_7AN8N"
      }
    },
    {
      "cell_type": "markdown",
      "source": [
        "Q N0 11. What are the advantages do dictonaries offer over lists for certain task?\n",
        "\n",
        "Ans:- Dictionaries offer several significant advantages over lists for certain tasks due to their fundamental structure and how they store and access data. Here are the key advantages:\n",
        "\n",
        "1. Faster Lookups (Retrieval of Values):\n",
        "\n",
        "Dictionaries: Dictionaries use keys to directly access their associated values. This lookup process is typically very fast, on average taking constant time, denoted as O(1), regardless of the size of the dictionary. This is because dictionaries often use hash tables internally, which allow for direct addressing of the memory location where the value is stored based on its key.\n",
        "Lists: To find a specific element in a list, you generally need to iterate through the list from the beginning until you find the desired element. In the worst case, you might have to examine every element\n",
        "\n",
        "2. Meaningful Indexing (Using Keys):\n",
        "\n",
        "Dictionaries: Dictionaries use arbitrary, immutable data types (like strings, numbers, and tuples) as keys. This allows you to access data using meaningful labels instead of just numerical indices. This makes the code more readable and easier to understand. For example, you can access the age of a person using person[\"age\"] instead of remembering a specific numerical index in a list.\n",
        "\n",
        "Lists: Lists use numerical indices (0, 1, 2, ...) to access elements. The meaning of an element is determined by its position in the list, which can be less intuitive, especially when dealing with complex data\n",
        "\n",
        "In summary, you should prefer dictionaries over lists when:\n",
        "\n",
        "You need to access data frequently based on a unique identifier (key).\n",
        "The order of elements is not critical.\n",
        "You want to associate meaningful labels with your data.\n",
        "You need to represent relationships or mappings between data items.\n",
        "Frequent insertion or deletion of elements at arbitrary positions is required.\n",
        "However, lists are more suitable when:\n",
        "\n",
        "The order of elements is important.\n",
        "You need to access elements based on their sequential position.\n",
        "You are dealing with a simple sequence of items where the position inherently defines their meaning.\n",
        "Choosing between dictionaries and lists depends on the specific requirements of the task at hand. Understanding their strengths and weaknesses allows you to write more efficient and readable code"
      ],
      "metadata": {
        "id": "2NTWzhCB_FdG"
      }
    },
    {
      "cell_type": "markdown",
      "source": [
        "Q N0 12. Describe a scenario where using a tuple would be preferable over a list.\n",
        "\n",
        "Ans:- A scenario where using a tuple would be preferable over a list is when you need to represent a fixed collection of related items that should not be modified after creation. This immutability offers several advantages in specific situations\n",
        "\n",
        "Here's why a tuple is preferable:\n",
        "\n",
        "Immutability: Tuples are immutable. Once created, their elements cannot be changed, added, or removed. This prevents accidental modifications and ensures the integrity of the data representing the point.\n",
        "\n",
        "Usability as Dictionary Keys: Tuples can be used as keys in dictionaries because they are hashable (due to their immutability). Lists, being mutable, are not hashable and cannot be used as dictionary keys. If you needed to store information associated with specific points, using tuples as keys would be necessary.\n",
        "Slight Performance Advantage (Minor): In some cases, tuple creation and access might be slightly faster than lists due to their simpler, fixed structure. However, this is usually a minor consideration unless you are dealing with extremely large datasets and performance-critical operations.\n",
        "Clearer Intent: Using a tuple clearly signals to other developers (and your future self) that the collection of items is intended to be treated as a single, unchanging entity\n",
        "\n",
        "Other scenarios where tuples are preferred:\n",
        "\n",
        "Representing database records: Each row in a database table can be naturally represented as a tuple, where the order of elements corresponds to the columns. The immutability reflects the typically fixed nature of a record once it's created.\n",
        "Returning multiple values from a function: Functions often return multiple related values as a tuple. This signifies that these values are a logical group.\n",
        "Constants: When defining constant collections of values (e.g., colors: (\"red\", \"green\", \"blue\")), tuples ensure they are not accidentally modified.\n",
        "In essence, when you have a collection of items that logically belong together and should not be changed after their creation, tuples provide data integrity, prevent accidental modifications, can be used in more contexts (like dictionary keys), and communicate a clearer intent compared to mutable lists."
      ],
      "metadata": {
        "id": "4ClyaQ61AL6H"
      }
    },
    {
      "cell_type": "markdown",
      "source": [
        "Q NO.13 How do sets handle duplicate values in Python?\n",
        "\n",
        "Ans:- Sets in Python automatically remove duplicate values — they only store unique elements.\n",
        " What happens with duplicates?\n",
        "\n",
        "If you create a set or add items to one:\n",
        "\n",
        "Any duplicate values are ignored.\n",
        "\n",
        "The set will contain only one instance of each item.\n",
        "\n",
        "Example"
      ],
      "metadata": {
        "id": "5zrz7j1FCElm"
      }
    },
    {
      "cell_type": "code",
      "source": [
        "my_set = {1, 2, 2, 3, 4, 1}\n",
        "print(my_set)"
      ],
      "metadata": {
        "colab": {
          "base_uri": "https://localhost:8080/"
        },
        "id": "5-Z5auLwGyIy",
        "outputId": "0ddc6594-bac4-430e-ec99-528eba48d05a"
      },
      "execution_count": 1,
      "outputs": [
        {
          "output_type": "stream",
          "name": "stdout",
          "text": [
            "{1, 2, 3, 4}\n"
          ]
        }
      ]
    },
    {
      "cell_type": "markdown",
      "source": [
        "Even though 1 and 2 appear multiple times in the definition, only one of each is kept in the set\n",
        "\n",
        "➕ Adding values:"
      ],
      "metadata": {
        "id": "k4SeOsbLHBd7"
      }
    },
    {
      "cell_type": "code",
      "source": [
        "my_set.add(3)  # 3 is already in the set\n",
        "print(my_set)"
      ],
      "metadata": {
        "colab": {
          "base_uri": "https://localhost:8080/"
        },
        "id": "3N4qaXRhHCe0",
        "outputId": "46babbb9-0be4-463c-fe47-45ab27f909db"
      },
      "execution_count": 2,
      "outputs": [
        {
          "output_type": "stream",
          "name": "stdout",
          "text": [
            "{1, 2, 3, 4}\n"
          ]
        }
      ]
    },
    {
      "cell_type": "markdown",
      "source": [
        "TL;DR:\n",
        "\n",
        ".✅ Sets = Unique values only\n",
        ".❌ Duplicates are discarded\n",
        ".🧠 Useful for deduplicating lists or checking membership fast\n",
        "\n",
        "\n",
        "\n"
      ],
      "metadata": {
        "id": "bJen8p0UHO3e"
      }
    },
    {
      "cell_type": "markdown",
      "source": [
        "Q NO.14 How does the “in” keyword work differently for lists and dictionaries?\n",
        "\n",
        " Ans:- The \"in\" keyword in Python is used to check for membership, but how it works depends on the type of the data structure—like lists vs dictionaries\n",
        "\n",
        ". Lists-\n",
        "\n",
        "When used with a list, in checks whether a value exists as an element in the list"
      ],
      "metadata": {
        "id": "3FFwSANzHoOE"
      }
    },
    {
      "cell_type": "markdown",
      "source": [],
      "metadata": {
        "id": "owqEyWZrHfNn"
      }
    },
    {
      "cell_type": "code",
      "source": [
        "my_list = [1, 2, 3, 4]\n",
        "print(2 in my_list)\n",
        "print(5 in my_list)"
      ],
      "metadata": {
        "colab": {
          "base_uri": "https://localhost:8080/"
        },
        "id": "2FDH6IleH2sm",
        "outputId": "7922e419-cf4c-42c2-95ec-b2d3bfb303e6"
      },
      "execution_count": 3,
      "outputs": [
        {
          "output_type": "stream",
          "name": "stdout",
          "text": [
            "True\n",
            "False\n"
          ]
        }
      ]
    },
    {
      "cell_type": "markdown",
      "source": [
        "🔹 Dictionaries-\n",
        "\n",
        "When used with a dictionary, in checks whether a value exists as a key in the dictionary"
      ],
      "metadata": {
        "id": "EmudBpH9H9Uk"
      }
    },
    {
      "cell_type": "code",
      "source": [
        "my_dict = {'a': 1, 'b': 2}\n",
        "print('a' in my_dict)\n",
        "print(1 in my_dict)"
      ],
      "metadata": {
        "colab": {
          "base_uri": "https://localhost:8080/"
        },
        "id": "7NuOcpxhH-q7",
        "outputId": "9379f75c-b082-4e03-a666-59c226d9982e"
      },
      "execution_count": 4,
      "outputs": [
        {
          "output_type": "stream",
          "name": "stdout",
          "text": [
            "True\n",
            "False\n"
          ]
        }
      ]
    },
    {
      "cell_type": "markdown",
      "source": [
        "Q NO.15 Can you modify the elements of a tuple? Explain why or why not.\n",
        "\n",
        " Ans:- No, you cannot directly modify the elements of a tuple in Python because tuples are immutable meaning their elements cannot be changed after creation.\n",
        "Explanation:-\n",
        "\n",
        "Immutability:\n",
        "\n",
        "Tuples are designed to be immutable, meaning once a tuple is created, its elements cannot be altered, added to, or removed.\n",
        "\n",
        "Purpose:\n",
        "\n",
        "This immutability provides several advantages:\n",
        "\n",
        "Data Integrity: Ensures that the data within a tuple remains consistent and predictable, preventing accidental or unintended changes.\n",
        "\n",
        "Hashing: Immutable objects like tuples can be used as keys in dictionaries or as elements in sets because their hash values remain constant.\n",
        "\n",
        "Efficiency: The immutability of tuples can lead to some performance optimizations in certain scenarios.\n",
        "\n",
        "Alternative:\n",
        "\n",
        "If you need a mutable sequence (where elements can be changed), you should use a list instead of a tuple.\n",
        "\n",
        "Example:\n",
        "\n",
        "    my_tuple = (1, 2, 3)\n",
        "   \n",
        "Q NO.16What is a nested dictionary, and give an example of its use case?\n",
        "\n",
        " Ans:- A nested dictionary in Python is a dictionary where values can be another dictionary. This allows you to model more complex data structures, like hierarchical or structured data.\n",
        "🧠 Why use a nested dictionary?\n",
        "\n",
        "It helps organize data that has multiple levels of information. Think of it like a dictionary inside another dictionary — like a spreadsheet with multiple columns or an object with properties and sub-properties. :\n",
        "\n",
        "**🔍 Example Use Case: Student Grades System- **\n",
        "\n",
        "Let’s say you’re building a simple system to store students and their grades in different subjects:\n",
        "\n",
        "students = {\n",
        "    \"Alice\": {\n",
        "        \"Math\": 90,\n",
        "        \"Science\": 85,\n",
        "        \"English\": 88\n",
        "    },\n",
        "    \"Bob\": {\n",
        "        \"Math\": 75,\n",
        "        \"Science\": 80,\n",
        "        \"English\": 78\n",
        "    }\n",
        "}\n",
        "Q NO.17 Describe the time complexity of accessing elements in a dictionary.\n",
        "\n",
        " Ans :- Accessing elements in a dictionary (also known as a hash map) in most programming languages like Python typically has the following time complexity:\n",
        "🕒 Time Complexity:\n",
        "\n",
        "Average case: O(1) — constant time\n",
        "\n",
        "Worst case: O(n) — linear time\n",
        "\n",
        "💡 Why?\n",
        "\n",
        "Average case (O(1)):\n",
        "\n",
        "Dictionaries use hashing to map keys to values. When you access an element like my_dict[key], the key is hashed, and the hash is used to directly index into an array, allowing for constant time access in most cases.\n",
        "Worst case (O(n)):\n",
        "\n",
        "In rare scenarios, multiple keys can hash to the same index (called a hash collision). If many collisions occur and are poorly handled (e.g., via linked lists or open addressing with high load factor), lookups can degrade to linear time. However, modern implementations (like Python’s dict) use techniques to mitigate this, making the worst case uncommon."
      ],
      "metadata": {
        "id": "bibkNlvIID5q"
      }
    },
    {
      "cell_type": "markdown",
      "source": [
        "Q N0.18 In what situations are lists preferred over dictionaries?\n",
        "\n",
        "Ans:- Lists and dictionaries in Python serve different purposes, and choosing one over the other depends on the use case. Here are situations where lists are preferred over dictionaries:\n",
        "✅ 1. Order Matters-\n",
        "\n",
        "Use a list when the order of elements is important.\n",
        "\n",
        "Example: Maintaining a queue or processing items in sequence\n",
        "\n",
        "tasks = ['write', 'edit', 'submit']\n",
        "\n",
        "✅ 2. Simple Collections of Items-\n",
        "\n",
        "Lists are great when you're dealing with simple, homogeneous data like numbers or strings without the need for labels.\n",
        "\n",
        "Example: Storing names or scores.\n",
        "\n",
        "scores = [95, 87, 78]\n",
        "\n",
        "✅ 3. Positional Access-\n",
        "\n",
        "If you frequently access items by index, lists are ideal.\n",
        "first_score = scores[0]\n",
        "\n",
        "✅ 4. Iteration Without Keys-\n",
        "\n",
        "Lists are optimal for straightforward looping through items where keys/labels aren’t necessary.\n",
        "for score in scores:\n",
        "    print(score)\n",
        "\n",
        "✅ 5. Memory Efficiency-\n",
        "\n",
        "Lists are generally more memory-efficient than dictionaries, especially for large collections of simple values.\n",
        "✅ 6. Need for Sorting-\n",
        "\n",
        "Lists can be sorted easily with .sort() or sorted(). Dictionaries can only be sorted by keys or values with extra effort.\n",
        "scores.sort()\n",
        "\n",
        "✅ 7. Stack or Queue Implementation-\n",
        "\n",
        "Lists work well for implementing stacks (LIFO) and queues (FIFO) using append(), pop(), and pop(0).\n",
        "stack = []\n",
        "stack.append('a')\n",
        "stack.pop()  # LIFO"
      ],
      "metadata": {
        "id": "9ka9z0WvJJDs"
      }
    },
    {
      "cell_type": "markdown",
      "source": [
        "Q N0.19 Why are dictionaries considered unordered, and how does that affect data retrieval?\n",
        "\n",
        "Ans:- Dictionaries in Python (and many other languages) are traditionally considered unordered because they do not maintain the order of the items as inserted (at least in versions before Python 3.7). Let's break this down a bit:\n",
        "🧠 Why were dictionaries considered unordered?\n",
        "\n",
        "Hash tables: Dictionaries are implemented using hash tables under the hood. When you insert a key-value pair, the key gets hashed, and the result determines where it’s stored in memory.\n",
        "\n",
        "No guaranteed order: In versions before Python 3.7, the internal mechanics of the hash table didn’t guarantee any consistent order of items when iterating over the dictionary.\n",
        "\n",
        "So even if you inserted items in a specific order, you couldn’t count on retrieving them in the same order later.\n",
        "\n",
        "🐍 But starting in Python 3.7…\n",
        "\n",
        "Python guarantees insertion order for dictionaries. That means if you insert keys in a particular sequence, iterating over the dictionary will return keys in that same sequence.\n",
        "\n",
        "Even though dictionaries maintain order now, they’re still optimized for fast key-based retrieval, not for ordering or sorting.\n",
        "\n",
        "📌 How does this affect data retrieval?\n",
        "\n",
        "Key-based access is constant time (O(1)) because of hashing. You can quickly retrieve values using their keys, regardless of the order.\n",
        "\n",
        "If you want to retrieve items in a specific order (e.g., sorted by keys or values), you’ll need to use functions like sorted() or use an OrderedDict (in some use cases, though it's less needed post-3.7)."
      ],
      "metadata": {
        "id": "rAErBdKBJRZq"
      }
    },
    {
      "cell_type": "markdown",
      "source": [
        "Q N0 20. Explain the difference between a list and a dictionary in terms of data retrieval.\n",
        "\n",
        "Ans:- The main difference between a list and a dictionary in terms of data retrieval lies in how you access the data and how fast that access is:\n",
        "🔢 List:\n",
        "\n",
        "A list is an ordered collection of elements.\n",
        "\n",
        "Data is retrieved using index positions (e.g., my_list[2] gives the third element).\n",
        "\n",
        "Indexes are integers, starting at 0.\n",
        "\n",
        "Retrieval time is O(1) (constant time) if you know the index.\n",
        "\n",
        "You usually have to search (O(n)) if you're looking for a specific value and don’t know its index.\n",
        "\n",
        "Example"
      ],
      "metadata": {
        "id": "WfELufELJoI_"
      }
    },
    {
      "cell_type": "code",
      "source": [
        "my_list = ['apple', 'banana', 'cherry']\n",
        "print(my_list[1])"
      ],
      "metadata": {
        "colab": {
          "base_uri": "https://localhost:8080/"
        },
        "id": "tIx7eo7fJ4Fb",
        "outputId": "fc4fb414-b5e6-4689-af4b-8affec5b0ebf"
      },
      "execution_count": 5,
      "outputs": [
        {
          "output_type": "stream",
          "name": "stdout",
          "text": [
            "banana\n"
          ]
        }
      ]
    },
    {
      "cell_type": "markdown",
      "source": [
        "🔑 Dictionary:\n",
        "\n",
        "A dictionary is an unordered collection of key-value pairs (in Python 3.7+, it preserves insertion order, but conceptually it's still based on key-value access).\n",
        "\n",
        "Data is retrieved using keys (e.g., my_dict['fruit']).\n",
        "\n",
        "Keys can be strings, numbers, or other immutable types.\n",
        "\n",
        "Retrieval time is O(1) on average, thanks to the underlying hash table mechanism.\n",
        "\n",
        "Example"
      ],
      "metadata": {
        "id": "hRGYTDdRKBYf"
      }
    },
    {
      "cell_type": "code",
      "source": [
        "my_dict = {'fruit': 'banana', 'color': 'yellow'}\n",
        "print(my_dict['fruit'])"
      ],
      "metadata": {
        "colab": {
          "base_uri": "https://localhost:8080/"
        },
        "id": "Tuf08QIFKCyq",
        "outputId": "ed2d0364-38b7-40c6-f45b-968a24f30a9e"
      },
      "execution_count": 6,
      "outputs": [
        {
          "output_type": "stream",
          "name": "stdout",
          "text": [
            "banana\n"
          ]
        }
      ]
    },
    {
      "cell_type": "code",
      "source": [
        "#1. Write a code to create a string with your name and print it.\n",
        "name = \"Ashish Pal\"\n",
        "print(name)"
      ],
      "metadata": {
        "colab": {
          "base_uri": "https://localhost:8080/"
        },
        "id": "c7BGgIUbKVqD",
        "outputId": "664cbfb9-b54a-4493-a90c-b28ddd4583c5"
      },
      "execution_count": 7,
      "outputs": [
        {
          "output_type": "stream",
          "name": "stdout",
          "text": [
            "Ashish Pal\n"
          ]
        }
      ]
    },
    {
      "cell_type": "code",
      "source": [
        "#2.  Write a code to find the length of the string \"Hello World\".\n",
        "\n",
        "text = \"Hello World\"\n",
        "length = len(text)\n",
        "print(\"Length of the string:\", length)"
      ],
      "metadata": {
        "colab": {
          "base_uri": "https://localhost:8080/"
        },
        "id": "QFVSYQgSKkMh",
        "outputId": "ec3f28d3-ccb8-4248-ce20-209ffb794f7e"
      },
      "execution_count": 8,
      "outputs": [
        {
          "output_type": "stream",
          "name": "stdout",
          "text": [
            "Length of the string: 11\n"
          ]
        }
      ]
    },
    {
      "cell_type": "code",
      "source": [
        "#3. Write a code to slice the first 3 characters from the string \"Python Programming\".\n",
        "\n",
        "text = \"Python Programming\"\n",
        "sliced_text = text[:3]\n",
        "print(sliced_text)"
      ],
      "metadata": {
        "colab": {
          "base_uri": "https://localhost:8080/"
        },
        "id": "FaGe2SEzKsr2",
        "outputId": "233f2b3c-a9f1-4bbb-a6c9-ff1fa2a567c8"
      },
      "execution_count": 9,
      "outputs": [
        {
          "output_type": "stream",
          "name": "stdout",
          "text": [
            "Pyt\n"
          ]
        }
      ]
    },
    {
      "cell_type": "code",
      "source": [
        "#4.  Write a code to convert the string \"hello\" to uppercase.\n",
        "\n",
        "text = \"hello\"\n",
        "uppercase_text = text.upper()\n",
        "print(uppercase_text)"
      ],
      "metadata": {
        "colab": {
          "base_uri": "https://localhost:8080/"
        },
        "id": "aOO2vbn8K0X1",
        "outputId": "0dc9f5d3-32ce-46c9-ea9d-53d9f1d07d47"
      },
      "execution_count": 10,
      "outputs": [
        {
          "output_type": "stream",
          "name": "stdout",
          "text": [
            "HELLO\n"
          ]
        }
      ]
    },
    {
      "cell_type": "code",
      "source": [
        "\n",
        "#5.  Write a code to replace the word \"apple\" with \"orange\" in the string \"I like apple\".\n",
        "\n",
        "text = \"I like apple\"\n",
        "new_text = text.replace(\"apple\", \"orange\")\n",
        "print(new_text)"
      ],
      "metadata": {
        "colab": {
          "base_uri": "https://localhost:8080/"
        },
        "id": "8iCzqIEyK8ZE",
        "outputId": "6ca05670-c2d6-493a-d63b-a951efb48cb3"
      },
      "execution_count": 11,
      "outputs": [
        {
          "output_type": "stream",
          "name": "stdout",
          "text": [
            "I like orange\n"
          ]
        }
      ]
    },
    {
      "cell_type": "code",
      "source": [
        "#6.  Write a code to create a list with numbers 1 to 5 and print it.\n",
        "\n",
        "numbers = [1, 2, 3, 4, 5]\n",
        "print(numbers)"
      ],
      "metadata": {
        "colab": {
          "base_uri": "https://localhost:8080/"
        },
        "id": "1gV8UzpALBdZ",
        "outputId": "40a1dd5d-3c59-48a0-a893-600212292834"
      },
      "execution_count": 12,
      "outputs": [
        {
          "output_type": "stream",
          "name": "stdout",
          "text": [
            "[1, 2, 3, 4, 5]\n"
          ]
        }
      ]
    },
    {
      "cell_type": "code",
      "source": [
        "#7  Write a code to append the number 10 to the list [1, 2, 3, 4].\n",
        "\n",
        "my_list = [1, 2, 3, 4]\n",
        "my_list.append(10)\n",
        "print(my_list)\n"
      ],
      "metadata": {
        "colab": {
          "base_uri": "https://localhost:8080/"
        },
        "id": "IMOQIrkILFjk",
        "outputId": "655095a8-ae3b-4c9a-c13b-42eb914e9fb8"
      },
      "execution_count": 13,
      "outputs": [
        {
          "output_type": "stream",
          "name": "stdout",
          "text": [
            "[1, 2, 3, 4, 10]\n"
          ]
        }
      ]
    },
    {
      "cell_type": "code",
      "source": [
        "#8. Write a code to remove the number 3 from the list [1, 2, 3, 4, 5].\n",
        "\n",
        "my_list = [1, 2, 3, 4, 5]\n",
        "my_list.remove(3)\n",
        "print(my_list)"
      ],
      "metadata": {
        "colab": {
          "base_uri": "https://localhost:8080/"
        },
        "id": "NfA31qb0LMYT",
        "outputId": "d7170729-2c76-4d7a-8add-22ddfab1bdae"
      },
      "execution_count": 15,
      "outputs": [
        {
          "output_type": "stream",
          "name": "stdout",
          "text": [
            "[1, 2, 4, 5]\n"
          ]
        }
      ]
    },
    {
      "cell_type": "code",
      "source": [
        "#9. Write a code to access the second element in the list ['a', 'b', 'c', 'd'].\n",
        "\n",
        "my_list = ['a', 'b', 'c', 'd']\n",
        "second_element = my_list[1]\n",
        "print(second_element)"
      ],
      "metadata": {
        "colab": {
          "base_uri": "https://localhost:8080/"
        },
        "id": "TrlBGI2sLSw-",
        "outputId": "dcd01a36-af8c-41b9-bf10-98161bd19b49"
      },
      "execution_count": 16,
      "outputs": [
        {
          "output_type": "stream",
          "name": "stdout",
          "text": [
            "b\n"
          ]
        }
      ]
    },
    {
      "cell_type": "code",
      "source": [
        "#10. Write a code to reverse the list [10, 20, 30, 40, 50].\n",
        "\n",
        "my_list = [10, 20, 30, 40, 50]\n",
        "reversed_list = my_list[::-1]\n",
        "print(reversed_list)"
      ],
      "metadata": {
        "colab": {
          "base_uri": "https://localhost:8080/"
        },
        "id": "zUZsnLmFLXQF",
        "outputId": "966db7c9-0ef3-4059-fe23-a9b48b5f9f86"
      },
      "execution_count": 17,
      "outputs": [
        {
          "output_type": "stream",
          "name": "stdout",
          "text": [
            "[50, 40, 30, 20, 10]\n"
          ]
        }
      ]
    },
    {
      "cell_type": "code",
      "source": [
        "#11.Write a code to create a tuple with the elements 100, 200, 300 and print it.\n",
        "\n",
        "my_tuple = (100, 200, 300)\n",
        "print(my_tuple)\n"
      ],
      "metadata": {
        "colab": {
          "base_uri": "https://localhost:8080/"
        },
        "id": "HW7-OqDpLdQQ",
        "outputId": "cd39d6db-c724-4db9-8b7e-fcbb69c738ee"
      },
      "execution_count": 18,
      "outputs": [
        {
          "output_type": "stream",
          "name": "stdout",
          "text": [
            "(100, 200, 300)\n"
          ]
        }
      ]
    },
    {
      "cell_type": "code",
      "source": [
        "#12. Write a code to access the second-to-last element of the tuple ('red', 'green', 'blue', 'yellow').\n",
        "\n",
        "colors = ('red', 'green', 'blue', 'yellow')\n",
        "second_to_last = colors[-2]\n",
        "print(second_to_last)"
      ],
      "metadata": {
        "colab": {
          "base_uri": "https://localhost:8080/"
        },
        "id": "J0P8PPQdLh02",
        "outputId": "1084d1b0-c616-4ae5-95a8-ea250980bc0e"
      },
      "execution_count": 19,
      "outputs": [
        {
          "output_type": "stream",
          "name": "stdout",
          "text": [
            "blue\n"
          ]
        }
      ]
    },
    {
      "cell_type": "code",
      "source": [
        "#13. Write a code to find the minimum number in the tuple (10, 20, 5, 15).\n",
        "\n",
        "numbers = (10, 20, 5, 15)\n",
        "minimum_number = min(numbers)\n",
        "print(\"The minimum number is:\", minimum_number)\n"
      ],
      "metadata": {
        "colab": {
          "base_uri": "https://localhost:8080/"
        },
        "id": "glgouQU6Lm3I",
        "outputId": "d558d5ba-2e3e-43c4-8582-a00bbee64253"
      },
      "execution_count": 20,
      "outputs": [
        {
          "output_type": "stream",
          "name": "stdout",
          "text": [
            "The minimum number is: 5\n"
          ]
        }
      ]
    },
    {
      "cell_type": "code",
      "source": [
        "\n",
        "#14.  Write a code to find the index of the element \"cat\" in the tuple ('dog', 'cat', 'rabbit').\n",
        "\n",
        "animals = ('dog', 'cat', 'rabbit')\n",
        "index_of_cat = animals.index('cat')\n",
        "print(\"The index of 'cat' is:\", index_of_cat)"
      ],
      "metadata": {
        "colab": {
          "base_uri": "https://localhost:8080/"
        },
        "id": "6v0q6nqRLsg7",
        "outputId": "3a7b503c-3545-46c5-9fef-26d977b98704"
      },
      "execution_count": 21,
      "outputs": [
        {
          "output_type": "stream",
          "name": "stdout",
          "text": [
            "The index of 'cat' is: 1\n"
          ]
        }
      ]
    },
    {
      "cell_type": "code",
      "source": [
        "#15.  Write a code to create a tuple containing three different fruits and check if \"kiwi\" is in it.\n",
        "\n",
        "fruits = (\"apple\", \"banana\", \"orange\")\n",
        "if \"kiwi\" in fruits:\n",
        "    print(\"Kiwi is in the tuple.\")\n",
        "else:\n",
        "    print(\"Kiwi is not in the tuple.\")"
      ],
      "metadata": {
        "colab": {
          "base_uri": "https://localhost:8080/"
        },
        "id": "iNvkUoOmLyfG",
        "outputId": "c2228ed9-be0d-4a7d-c3c3-859325a25379"
      },
      "execution_count": 22,
      "outputs": [
        {
          "output_type": "stream",
          "name": "stdout",
          "text": [
            "Kiwi is not in the tuple.\n"
          ]
        }
      ]
    },
    {
      "cell_type": "code",
      "source": [
        "#16. Write a code to create a set with the elements 'a', 'b', 'c' and print it.\n",
        "\n",
        "my_set = {'a', 'b', 'c'}\n",
        "print(my_set)"
      ],
      "metadata": {
        "colab": {
          "base_uri": "https://localhost:8080/"
        },
        "id": "IA-4qxOyL4Zx",
        "outputId": "940f89f6-716c-4927-deac-851e83474853"
      },
      "execution_count": 23,
      "outputs": [
        {
          "output_type": "stream",
          "name": "stdout",
          "text": [
            "{'a', 'c', 'b'}\n"
          ]
        }
      ]
    },
    {
      "cell_type": "code",
      "source": [
        "#17. Write a code to clear all elements from the set {1, 2, 3, 4, 5}.\n",
        "\n",
        "my_set = {1, 2, 3, 4, 5}\n",
        "my_set.clear()\n",
        "print(my_set)"
      ],
      "metadata": {
        "colab": {
          "base_uri": "https://localhost:8080/"
        },
        "id": "Gwrer5adL-oB",
        "outputId": "18588c00-f3fa-44a7-dc19-8e4d587e856c"
      },
      "execution_count": 24,
      "outputs": [
        {
          "output_type": "stream",
          "name": "stdout",
          "text": [
            "set()\n"
          ]
        }
      ]
    },
    {
      "cell_type": "code",
      "source": [
        "#18. Write a code to remove the element 4 from the set {1, 2, 3, 4}.\n",
        "\n",
        "my_set = {1, 2, 3, 4}\n",
        "my_set.discard(4)\n",
        "print(my_set)"
      ],
      "metadata": {
        "colab": {
          "base_uri": "https://localhost:8080/"
        },
        "id": "hC14qmG3MCVA",
        "outputId": "f75edef7-ce55-4126-d05d-1c9419eb9924"
      },
      "execution_count": 25,
      "outputs": [
        {
          "output_type": "stream",
          "name": "stdout",
          "text": [
            "{1, 2, 3}\n"
          ]
        }
      ]
    },
    {
      "cell_type": "code",
      "source": [
        "#19.  Write a code to find the union of two sets {1, 2, 3} and {3, 4, 5}.\n",
        "\n",
        "set1 = {1, 2, 3}\n",
        "set2 = {3, 4, 5}\n",
        "\n",
        "union_set = set1.union(set2)\n",
        "\n",
        "print(\"Union of the sets:\", union_set)"
      ],
      "metadata": {
        "colab": {
          "base_uri": "https://localhost:8080/"
        },
        "id": "E_-CIplwMHE8",
        "outputId": "731ec9ba-1946-4bce-99eb-4850f71bc9c7"
      },
      "execution_count": 26,
      "outputs": [
        {
          "output_type": "stream",
          "name": "stdout",
          "text": [
            "Union of the sets: {1, 2, 3, 4, 5}\n"
          ]
        }
      ]
    },
    {
      "cell_type": "code",
      "source": [
        "#20.  Write a code to find the intersection of two sets {1, 2, 3} and {2, 3, 4}.\n",
        "\n",
        "set1 = {1, 2, 3}\n",
        "set2 = {2, 3, 4}\n",
        "\n",
        "intersection = set1 & set2\n",
        "\n",
        "print(\"Intersection:\", intersection)"
      ],
      "metadata": {
        "colab": {
          "base_uri": "https://localhost:8080/"
        },
        "id": "JDQ96zXyMMPW",
        "outputId": "a5df936c-ef0b-42e8-9fad-564ac0f70bc7"
      },
      "execution_count": 27,
      "outputs": [
        {
          "output_type": "stream",
          "name": "stdout",
          "text": [
            "Intersection: {2, 3}\n"
          ]
        }
      ]
    },
    {
      "cell_type": "code",
      "source": [
        "#21.  Write a code to create a dictionary with the keys \"name\", \"age\", and \"city\", and print it.\n",
        "\n",
        "my_dict = {\n",
        "    \"Ashish Pal\": None,\n",
        "    \"21\": None,\n",
        "    \"Gaya\": None\n",
        "}\n",
        "\n",
        "print(my_dict)"
      ],
      "metadata": {
        "colab": {
          "base_uri": "https://localhost:8080/"
        },
        "id": "nEGGdTFmMRce",
        "outputId": "3236144b-d34c-45e3-e736-3f16ad777317"
      },
      "execution_count": 28,
      "outputs": [
        {
          "output_type": "stream",
          "name": "stdout",
          "text": [
            "{'Ashish Pal': None, '21': None, 'Gaya': None}\n"
          ]
        }
      ]
    },
    {
      "cell_type": "code",
      "source": [
        "#22. Write a code to add a new key-value pair \"country\": \"USA\" to the dictionary {'name': 'John', 'age': 25}.\n",
        "\n",
        "person = {'name': 'John', 'age': 25}\n",
        "person['country'] = 'USA'\n",
        "\n",
        "print(person)"
      ],
      "metadata": {
        "colab": {
          "base_uri": "https://localhost:8080/"
        },
        "id": "lcHc3U9hMeb-",
        "outputId": "4b3e66c7-dd7a-4d53-cfb8-3eafd4e8b8c5"
      },
      "execution_count": 29,
      "outputs": [
        {
          "output_type": "stream",
          "name": "stdout",
          "text": [
            "{'name': 'John', 'age': 25, 'country': 'USA'}\n"
          ]
        }
      ]
    },
    {
      "cell_type": "code",
      "source": [
        "#23. Write a code to access the value associated with the key \"name\" in the dictionary {'name': 'Alice', 'age': 30}.\n",
        "\n",
        "person = {'name': 'Alice', 'age': 30}\n",
        "name_value = person['name']\n",
        "print(name_value)\n"
      ],
      "metadata": {
        "colab": {
          "base_uri": "https://localhost:8080/"
        },
        "id": "MzIQuRdVMiiC",
        "outputId": "55124c70-c0e2-46c3-d515-d70209c18c63"
      },
      "execution_count": 30,
      "outputs": [
        {
          "output_type": "stream",
          "name": "stdout",
          "text": [
            "Alice\n"
          ]
        }
      ]
    },
    {
      "cell_type": "code",
      "source": [
        "\n",
        "#24.  Write a code to remove the key \"age\" from the dictionary {'name': 'Bob', 'age': 22, 'city': 'New York'}.\n",
        "\n",
        "person = {'name': 'Bob', 'age': 22, 'city': 'New York'}\n",
        "\n",
        "person.pop('age', None)\n",
        "\n",
        "print(person)"
      ],
      "metadata": {
        "colab": {
          "base_uri": "https://localhost:8080/"
        },
        "id": "OadMhGABMmiG",
        "outputId": "7e72fb1a-b80e-45c2-a009-c3501a4aa869"
      },
      "execution_count": 31,
      "outputs": [
        {
          "output_type": "stream",
          "name": "stdout",
          "text": [
            "{'name': 'Bob', 'city': 'New York'}\n"
          ]
        }
      ]
    },
    {
      "cell_type": "code",
      "source": [
        "#25.  Write a code to check if the key \"city\" exists in the dictionary {'name': 'Alice', 'city': 'Paris'}.\n",
        "\n",
        "data = {'name': 'Alice', 'city': 'Paris'}\n",
        "\n",
        "if 'city' in data:\n",
        "    print(\"The key 'city' exists in the dictionary.\")\n",
        "else:\n",
        "    print(\"The key 'city' does not exist in the dictionary.\")"
      ],
      "metadata": {
        "colab": {
          "base_uri": "https://localhost:8080/"
        },
        "id": "qZgLv9EBMtpr",
        "outputId": "2c97367b-aa8c-4d1c-944c-82ed0cb8edc5"
      },
      "execution_count": 32,
      "outputs": [
        {
          "output_type": "stream",
          "name": "stdout",
          "text": [
            "The key 'city' exists in the dictionary.\n"
          ]
        }
      ]
    },
    {
      "cell_type": "code",
      "source": [
        "#26.  Write a code to create a list, a tuple, and a dictionary, and print them all.\n",
        "\n",
        "my_list = [1, 2, 3, 4, 5]\n",
        "\n",
        "my_tuple = ('a', 'b', 'c')\n",
        "\n",
        "my_dict = {'name': 'Alice', 'age': 30, 'city': 'New York'}\n",
        "\n",
        "print(\"List:\", my_list)\n",
        "print(\"Tuple:\", my_tuple)\n",
        "print(\"Dictionary:\", my_dict)"
      ],
      "metadata": {
        "colab": {
          "base_uri": "https://localhost:8080/"
        },
        "id": "3TBC24EAM3vU",
        "outputId": "6e5c2cc6-1485-4101-f046-3d04da5c32e5"
      },
      "execution_count": 33,
      "outputs": [
        {
          "output_type": "stream",
          "name": "stdout",
          "text": [
            "List: [1, 2, 3, 4, 5]\n",
            "Tuple: ('a', 'b', 'c')\n",
            "Dictionary: {'name': 'Alice', 'age': 30, 'city': 'New York'}\n"
          ]
        }
      ]
    },
    {
      "cell_type": "code",
      "source": [
        "#27. Write a code to create a list of 5 random numbers between 1 and 100, sort it in ascending order, and print the result.(replaced)\n",
        "\n",
        "import random\n",
        "\n",
        "random_numbers = [random.randint(1, 100) for _ in range(5)]\n",
        "\n",
        "random_numbers.sort()\n",
        "\n",
        "print(\"Sorted random numbers:\", random_numbers)"
      ],
      "metadata": {
        "colab": {
          "base_uri": "https://localhost:8080/"
        },
        "id": "mH6VVs2HM8K8",
        "outputId": "798427b2-1a78-4813-f9a0-afa06ee9dc11"
      },
      "execution_count": 34,
      "outputs": [
        {
          "output_type": "stream",
          "name": "stdout",
          "text": [
            "Sorted random numbers: [10, 41, 45, 56, 82]\n"
          ]
        }
      ]
    },
    {
      "cell_type": "code",
      "source": [
        "\n",
        "#28. Write a code to create a list with strings and print the element at the third index.\n",
        "\n",
        "string_list = [\"apple\", \"banana\", \"cherry\", \"date\", \"elderberry\"]\n",
        "\n",
        "print(\"Element at index 3:\", string_list[3])"
      ],
      "metadata": {
        "colab": {
          "base_uri": "https://localhost:8080/"
        },
        "id": "ZI4cNTYDNFll",
        "outputId": "e2f37f7f-4328-4984-c21b-01a69d53612d"
      },
      "execution_count": 35,
      "outputs": [
        {
          "output_type": "stream",
          "name": "stdout",
          "text": [
            "Element at index 3: date\n"
          ]
        }
      ]
    },
    {
      "cell_type": "code",
      "source": [
        "#29. Write a code to combine two dictionaries into one and print the result.\n",
        "\n",
        "\n",
        "dict1 = {'a': 1, 'b': 2}\n",
        "dict2 = {'c': 3, 'd': 4}\n",
        "\n",
        "combined_dict = {**dict1, **dict2}\n",
        "\n",
        "print(\"Combined Dictionary:\", combined_dict)"
      ],
      "metadata": {
        "colab": {
          "base_uri": "https://localhost:8080/"
        },
        "id": "2Cp_XNf7NJ52",
        "outputId": "4accdd78-43b0-47bc-9e6f-6e41ea20ea3f"
      },
      "execution_count": 36,
      "outputs": [
        {
          "output_type": "stream",
          "name": "stdout",
          "text": [
            "Combined Dictionary: {'a': 1, 'b': 2, 'c': 3, 'd': 4}\n"
          ]
        }
      ]
    },
    {
      "cell_type": "code",
      "source": [
        "#30 Write a code to convert a list of strings into a set.\n",
        "\n",
        "string_list = [\"apple\", \"banana\", \"cherry\", \"apple\", \"banana\"]\n",
        "\n",
        "string_set = set(string_list)\n",
        "\n",
        "print(string_set)"
      ],
      "metadata": {
        "colab": {
          "base_uri": "https://localhost:8080/"
        },
        "id": "it5pwrdjNNyM",
        "outputId": "09cd007a-2c17-407a-9da6-da644b237388"
      },
      "execution_count": 37,
      "outputs": [
        {
          "output_type": "stream",
          "name": "stdout",
          "text": [
            "{'apple', 'cherry', 'banana'}\n"
          ]
        }
      ]
    }
  ]
}